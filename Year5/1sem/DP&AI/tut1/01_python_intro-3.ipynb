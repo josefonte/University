{
  "cells": [
    {
      "cell_type": "markdown",
      "metadata": {},
      "source": [
        "# Deep Learning & AI - WS23/24\n",
        "\n",
        "Institute for Informatics - Department of Databases and Data Mining\n",
        "* Lecturer: Prof. Dr. Matthias Schubert\n",
        "* Assistant: Maximilian Bernhard, Zongyue Li\n",
        "---\n",
        "##### The Tutorial will take place on Monday, Oct 30th 2023\n",
        "* Group 01 - 14:00-16:00 c.t., Lehrturm VU-104 (Prof.-Huber-Pl.)\n",
        "* Group 02 - 16:00-18:00 c.t., Lehrturm VU-104 (Prof.-Huber-Pl.)"
      ]
    },
    {
      "cell_type": "markdown",
      "metadata": {},
      "source": [
        "# 1st Tutorial - Python Introduction \n",
        "\n",
        "In this tutorial, we want to give you a short introduction to Python and some insights into the basic usage of some common libraries in the scope of Data Science. Sections which are marked as <font color='#e52425'>Assignments</font> there you have to add something related to the tasks between the comments<br>### TODO Start ### and ### TODO End ###.\n",
        "\n",
        "<strong>_recommended literature for Python Programming:_ </strong> <br>\n",
        "* _Learn Python Programming: An in-depth introduction to the fundamentals of Python, 3rd Edition (Heinrich Kruger Fabrizio Romano)_ <br>\n",
        "* _Learning Scientific Programming with Python (Christian Hill)_ <br>\n",
        "* _Expert Python Programming: Master Python by learning the best coding practices and advanced programming concepts (Michal Jaworski)_ <br>\n",
        "* _Clean Code in Python: Develop maintainable and efficient code, 2nd Edition (Mariano Anaya)_"
      ]
    },
    {
      "cell_type": "markdown",
      "metadata": {},
      "source": [
        "### Installing Python\n",
        "\n",
        "* <strong>Anaconda distribution (*recommended)</strong>\n",
        "\n",
        "Visit the website https://www.anaconda.com/products/individual#Downloads and download the Anaconda distribution for the Python 3.8. Starting the Anaconda-Navigator enables us to start jupyter notebooks coming along with the installation of the anaconda distribution. If preferred, install also an IDE/editor of your choice, e.g. PyCharm.\n",
        "\n",
        "The Anaconda distribution provides a plethora of pre-installed libraries (numpy, scipy, pandas, ...) which otherwise have to be installed individually. If you need an additional library which is not initially included in Anaconda, you can install the lib via \"conda install PACKAGENAME\". (Further information can be looked up in the documentation: https://conda.io/docs/index.html)\n",
        "\n",
        "* <strong>W/o distribution</strong>\n",
        "\n",
        "Visit https://www.python.org/downloads/ and download your preferred python version (Python 3.8.8 is used by latest version of Anaconda). Next, go to https://pip.pypa.io/en/stable/installation/ and install $pip$. With $pip$ being installed one can install each package individually. For example, to install the packages $numpy, scipy, matplotlib, ipython, jupyter, pandas$, execute the following command:<br/>\n",
        "> pip install --user numpy scipy matplotlib ipython jupyter pandas\n",
        "\n",
        "See further packages and its purpose on https://pypi.org/:\n",
        "- deep learning: torch, tensorflow, etc.\n",
        "- array operations, optimization, data handling: numpy, scipy, pandas, etc.\n",
        "- hyperparameter optimization: optuna, nevergrad, etc.\n",
        "- visualization: matplotlib, seaborn, bokeh, etc.\n",
        "- jupyter notebook interaction: jupyter"
      ]
    },
    {
      "cell_type": "markdown",
      "metadata": {},
      "source": [
        "### First steps - Commenting, data types, printing"
      ]
    },
    {
      "cell_type": "markdown",
      "metadata": {},
      "source": [
        "<strong>How to comment your code.</strong> There are single line comments and multi-line comments. Just try them out. Comments are ignored by the parser. Commenting your code is beneficial, not only for you but also for everybody who gets in touch with your code."
      ]
    },
    {
      "cell_type": "code",
      "execution_count": 1,
      "metadata": {},
      "outputs": [
        {
          "data": {
            "text/plain": [
              "'\\nThis is also a block comment\\nwith multiple lines.\\n'"
            ]
          },
          "execution_count": 1,
          "metadata": {},
          "output_type": "execute_result"
        }
      ],
      "source": [
        "# single line comment; will be ignored by the parser\n",
        "'''\n",
        "This is a block comment.\n",
        "In here, i can write several lines.\n",
        "'''\n",
        "\n",
        "\"\"\"\n",
        "This is also a block comment\n",
        "with multiple lines.\n",
        "\"\"\""
      ]
    },
    {
      "cell_type": "markdown",
      "metadata": {},
      "source": [
        "<b>Data Types</b>\n",
        "Python provides standard data types and related cast operators. Variables can be typed with type hinting by annotation  \\<var>:\\<type>=\\<value>, e.g. var1:int=42, which represent a better coding style but its not required since python handles data types dynamically. Type hints (or annotations) are just for external offline type checkers, the behaviour of Python remains the same no matter if using type hinting or not. (details at https://www.python.org/dev/peps/pep-0484/)"
      ]
    },
    {
      "cell_type": "code",
      "execution_count": 2,
      "metadata": {},
      "outputs": [
        {
          "name": "stdout",
          "output_type": "stream",
          "text": [
            "true\n",
            "\n",
            "------\n",
            "\n",
            "['a', 'b', 3, 1, 2, 'a']\n",
            "\n",
            "['a', 3, 1, 2, 'a']\n",
            "\n",
            "[3, 1, 2, 'a']\n",
            "\n",
            "[3, 1, 2, 'a', 'c']\n",
            "\n",
            "first: 3 last: c 2nd: 1 first three: [3, 1, 2] last three: [2, 'a', 'c'] cInList: True\n",
            "\n",
            "(3, 1, 2, 'a', 'c')\n",
            "\n",
            "------\n",
            "\n",
            "true\n",
            "\n",
            "false\n",
            "\n",
            "------\n",
            "\n",
            "{'key': 'value', 1: 3}\n",
            "\n",
            "dict_items([('key', 'value'), (1, 3)])\n",
            "\n",
            "------\n",
            "\n",
            "true\n",
            "\n",
            "false\n"
          ]
        }
      ],
      "source": [
        "var1 = 42      # or var1:int = 42            (int)\n",
        "var2 = 42.0    # or var2:float = 42.0        (float)\n",
        "var3 = (1+3j)  # or var3:complex = (1+3j)    (complex)\n",
        "\n",
        "str1 = str(var1)  # or str1:str = str(var1) or just str1 = \"42\"         (String)\n",
        "flg1 = bool(var1) # or flg1:bool = bool(var1) or just flg1 = 42      (Boolean)\n",
        "print((\"false\",\"true\")[bool(42)==True]) # Boolean -> !=0 treated as True\n",
        "print(\"------\")\n",
        "\n",
        "# List\n",
        "lst = [] # create \n",
        "lst = [\"a\", \"b\", 3, 1, 2, \"a\"] # create and init\n",
        "print(lst)\n",
        "lst.pop(1) # drops element \"b\" at index 1\n",
        "print(lst)\n",
        "lst.remove(\"a\") # removes first element with value \"a\"\n",
        "print(lst)\n",
        "lst.append(\"c\")\n",
        "print(lst)\n",
        "print(f\"first: {lst[0]} last: {lst[-1]} 2nd: {lst[1]} first three: {lst[0:3]} last three: {lst[-3:]} cInList: {'c' in lst}\")\n",
        "tup = tuple(lst) # cast to tuple\n",
        "print(tup)\n",
        "print(\"------\")\n",
        "\n",
        "# Tuple\n",
        "tup = () # create\n",
        "tup = (\"false\",\"true\", \"v2\") # create and init\n",
        "tup_list = list(tup) # convert to list to apply all list operations to a tuple\n",
        "tup_opt = (\"false\",\"true\")\n",
        "print(tup_opt[True]) # can be used as inline if-else-return\n",
        "print(tup_opt[False]) # can be used as inline if-else-return\n",
        "print(\"------\")\n",
        "\n",
        "# Dictionary\n",
        "d = {} # create\n",
        "d = {\"key\": \"value\"} # create and init\n",
        "d[0] = \"a\" # add values\n",
        "d[1] = 2\n",
        "d.update({1: 3}) # update value of key\n",
        "del d[0] # remove element with key 0\n",
        "print(d) # print dictionary\n",
        "print(d.items()) # key value pairs as list of tuples in dict_items\n",
        "print(\"------\")\n",
        "\n",
        "# Null\n",
        "varN = None # null of Python\n",
        "print(tup_opt[varN is None]) # check if null\n",
        "print(tup_opt[varN is not None]) # check if not null"
      ]
    },
    {
      "cell_type": "code",
      "execution_count": 3,
      "metadata": {},
      "outputs": [
        {
          "name": "stdout",
          "output_type": "stream",
          "text": [
            "5\n",
            "\n",
            "5\n",
            "\n",
            "5\n"
          ]
        }
      ],
      "source": [
        "from typing import List, Dict, Tuple, Any\n",
        "\n",
        "def my_func1(param: List[int]) -> int:\n",
        "    return len(param)\n",
        "\n",
        "def my_func2(param: List[int]) -> Any:\n",
        "    return len(param)\n",
        "\n",
        "print(my_func1([1, 1, 1, 1, 1]))\n",
        "\n",
        "# as mentioned above type hinting has no influence at runtime, its just for offline type checks and not mandatory\n",
        "print(my_func1([1, 1, \"a\", 1, \"c\"]))\n",
        "print(my_func2([1, 1, \"a\", 1, \"c\"]))"
      ]
    },
    {
      "cell_type": "markdown",
      "metadata": {},
      "source": [
        "### <font color='#e52425'>Assignments</font>"
      ]
    },
    {
      "cell_type": "markdown",
      "metadata": {},
      "source": [
        "<b>Assigning Values to Variables.</b> Create variables and assign numbers, strings, floating values to them. "
      ]
    },
    {
      "cell_type": "code",
      "execution_count": 47,
      "metadata": {},
      "outputs": [
        {
          "name": "stdout",
          "output_type": "stream",
          "text": [
            "DLAI from Matthias Schubert gets in WS21/22 visited by 285 students.\n"
          ]
        }
      ],
      "source": [
        "### TODO Start ###\n",
        "\n",
        "# ...\n",
        "\n",
        "### TODO End ###\n",
        "\n",
        "print(f\"DLAI from {prof} gets in WS21/22 visited by {int(perc_showup * num_studs)} students.\")"
      ]
    },
    {
      "cell_type": "markdown",
      "metadata": {},
      "source": [
        "<strong>Boolean. </strong> Booleans are used in order to check whether a specific condition holds.  The result of a logical expression is binary indicated by the keywords <b>True</b> or <b>False</b>."
      ]
    },
    {
      "cell_type": "code",
      "execution_count": 48,
      "metadata": {},
      "outputs": [
        {
          "name": "stdout",
          "output_type": "stream",
          "text": [
            "False\n",
            "\n",
            "True\n",
            "\n",
            "True\n",
            "\n",
            "True\n",
            "\n",
            "True\n"
          ]
        }
      ],
      "source": [
        "flag_ = True\n",
        "a = 6 \n",
        "b = 9\n",
        "s1 = \"Hey.\"\n",
        "s2 = \"Hi.\"\n",
        "s3 = s1\n",
        "l = [\"ML\", 2, \"Learn\"]\n",
        "\n",
        "print (a == b)\n",
        "print (a != b)\n",
        "print (s1 != s2)\n",
        "print (\"ML\" in l)\n",
        "print (s3 is s1)"
      ]
    },
    {
      "cell_type": "markdown",
      "metadata": {},
      "source": [
        "<strong>String.</strong> Strings are a sequence of letters enclosed by either single or double quotes."
      ]
    },
    {
      "cell_type": "code",
      "execution_count": 49,
      "metadata": {},
      "outputs": [
        {
          "name": "stdout",
          "output_type": "stream",
          "text": [
            "Hello, i'm a string using double quotes\n",
            "\n",
            "Nice one! I'm using single quotes and show also how escaping works by using backslashes \\\n"
          ]
        }
      ],
      "source": [
        "s1 = \"Hello, i'm a string using double quotes\"\n",
        "s2 = 'Nice one! I\\'m using single quotes and show also how escaping works by using backslashes \\\\'\n",
        "print (s1)\n",
        "print (s2)"
      ]
    },
    {
      "cell_type": "markdown",
      "metadata": {},
      "source": [
        "<b>Lists.</b> Create a list which contains all numbers from 0 to 10"
      ]
    },
    {
      "cell_type": "code",
      "execution_count": 7,
      "metadata": {},
      "outputs": [
        {
          "name": "stdout",
          "output_type": "stream",
          "text": [
            "l0 = [0, 1, 2, 3, 4, 5, 6, 7, 8, 9]\n"
          ]
        }
      ],
      "source": [
        "### TODO Start ###\n",
        "\n",
        "# ...\n",
        "\n",
        "### TODO End ###\n",
        "\n",
        "print(f\"l0 = {l0}\")"
      ]
    },
    {
      "cell_type": "markdown",
      "metadata": {},
      "source": [
        "Given a list $a=['I','like','cookies']$ and another list $b=a$. Replace in the list $b$ the word $'cookies'$ with $'apples'$. Finally, print both lists ($a$ and $b$). What do you observe? What leads to the observed behavior?"
      ]
    },
    {
      "cell_type": "code",
      "execution_count": 4,
      "metadata": {},
      "outputs": [
        {
          "name": "stdout",
          "output_type": "stream",
          "text": [
            "4567103616 4571138944\n",
            "['I', 'like', 'cookies'] ['I', 'like', 'apples']\n"
          ]
        }
      ],
      "source": [
        "a = ['I','like','cookies']\n",
        "b = a.copy()\n",
        "\n",
        "### TODO Start ###\n",
        "\n",
        "b[2] = \"apples\"\n",
        "\n",
        "### TODO End ###\n",
        "\n",
        "print(id(a),id(b))\n",
        "\n",
        "print(a,b)"
      ]
    },
    {
      "cell_type": "markdown",
      "metadata": {},
      "source": [
        "<b>List reverse.</b> Given the following list $a=[0,1,2,3,4,5]$. Write a function which reverses the list."
      ]
    },
    {
      "cell_type": "code",
      "execution_count": 1,
      "metadata": {},
      "outputs": [
        {
          "data": {
            "text/plain": [
              "[5, 4, 3, 2, 1, 0]"
            ]
          },
          "execution_count": 1,
          "metadata": {},
          "output_type": "execute_result"
        }
      ],
      "source": [
        "a = [0,1,2,3,4,5]\n",
        "\n",
        "### TODO Start ###\n",
        "\n",
        "a[::-1]\n",
        "\n",
        "### TODO End ###"
      ]
    },
    {
      "cell_type": "markdown",
      "metadata": {},
      "source": [
        "<strong>Tuples.</strong> Tuples in python are indicated by round brackets (...). Create a tuple with the string values \"D\", \"L\", \"A\", \"I\". Reference to entries by using the same syntax as for lists. Check if a specific entry is in our tuple again by using the keyword <b>in</b>. Make an inline-IF-ELSE-return-statement based on \"condition\" with the help of a tuple."
      ]
    },
    {
      "cell_type": "code",
      "execution_count": 10,
      "metadata": {},
      "outputs": [
        {
          "name": "stdout",
          "output_type": "stream",
          "text": [
            "()\n",
            "\n",
            "L\n",
            "\n",
            "True\n",
            "\n",
            "True->Value1\n"
          ]
        }
      ],
      "source": [
        "condition = True\n",
        "my_empty_tuple = ()  #  create an empty tuple\n",
        "print (my_empty_tuple)\n",
        "\n",
        "### TODO Start ###\n",
        "\n",
        "# ...\n",
        "\n",
        "### TODO End ###"
      ]
    },
    {
      "cell_type": "markdown",
      "metadata": {},
      "source": [
        "<b>Dictionaries I.</b> Create a dictionary with $n$ entries, where the  keys are enumerated from $0$ to $n-1$ and the values are their corresponding keys squared. Use list comprehensions. <br/>\n",
        "Example for expected result: $n = 7; \\{0:0, 1:1, 2:4, 3:9, 4:16, 5:25, 6:36\\}$"
      ]
    },
    {
      "cell_type": "code",
      "execution_count": 11,
      "metadata": {},
      "outputs": [
        {
          "name": "stdout",
          "output_type": "stream",
          "text": [
            "{0: 0, 1: 1, 2: 4, 3: 9, 4: 16, 5: 25, 6: 36}\n"
          ]
        }
      ],
      "source": [
        "n = 7\n",
        "\n",
        "### TODO Start ###\n",
        "\n",
        "# ...\n",
        "\n",
        "### TODO End ###\n",
        "\n",
        "print(d1)"
      ]
    },
    {
      "cell_type": "markdown",
      "metadata": {},
      "source": [
        "<b>Dictionaries II.</b> Use the dictionary from the previous assignment. Provide a list of all keys and values of the dictionary by using dictionary methods. "
      ]
    },
    {
      "cell_type": "code",
      "execution_count": 12,
      "metadata": {},
      "outputs": [
        {
          "name": "stdout",
          "output_type": "stream",
          "text": [
            "[0, 1, 2, 3, 4, 5, 6]\n",
            "\n",
            "[0, 1, 4, 9, 16, 25, 36]\n",
            "\n",
            "[0, 1, 2, 3, 4, 5, 6]\n",
            "\n",
            "[0, 1, 4, 9, 16, 25, 36]\n"
          ]
        }
      ],
      "source": [
        "print([k for k in d1])\n",
        "print([d1[k] for k in d1])\n",
        "\n",
        "### TODO Start ###\n",
        "\n",
        "print(list( ... ))\n",
        "print(list( ... ))\n",
        "\n",
        "### TODO End ###"
      ]
    },
    {
      "cell_type": "markdown",
      "metadata": {},
      "source": [
        "### Loops and conditions\n",
        "<b>Loops and conditions.</b> Using the created keys list from the task before, print each element of the created keys list if its is an odd number, by using a loop and conditions. Provide two solutions with different types of loops and conditions."
      ]
    },
    {
      "cell_type": "code",
      "execution_count": 13,
      "metadata": {},
      "outputs": [
        {
          "name": "stdout",
          "output_type": "stream",
          "text": [
            "key_list: [0, 1, 2, 3, 4, 5, 6]\n",
            "\n",
            "odd numbers:\n",
            "\n",
            "1\n",
            "\n",
            "3\n",
            "\n",
            "5\n",
            "\n",
            "1\n",
            "\n",
            "3\n",
            "\n",
            "5\n"
          ]
        }
      ],
      "source": [
        "key_list = list(d1.keys())\n",
        "print(f\"key_list: {key_list}\")\n",
        "print(\"odd numbers:\")\n",
        "\n",
        "### TODO Start ###\n",
        "\n",
        "# loop type 1\n",
        "# ...\n",
        "\n",
        "# loop type 2\n",
        "# ...\n",
        "        \n",
        "### TODO End ###"
      ]
    },
    {
      "cell_type": "markdown",
      "metadata": {},
      "source": [
        "<b>List Comprehensions.</b> Now, generate a list of all numbers from 0 to $n$ in squared form who's result is odd. Use list comprehension."
      ]
    },
    {
      "cell_type": "code",
      "execution_count": 14,
      "metadata": {},
      "outputs": [
        {
          "name": "stdout",
          "output_type": "stream",
          "text": [
            "[1, 9, 25]\n"
          ]
        }
      ],
      "source": [
        "n=7\n",
        "\n",
        "### TODO Start ###\n",
        "\n",
        "# ...\n",
        "\n",
        "### TODO End ###"
      ]
    },
    {
      "cell_type": "markdown",
      "metadata": {},
      "source": [
        "### Functions"
      ]
    },
    {
      "cell_type": "markdown",
      "metadata": {},
      "source": [
        "<b>Functions. </b> Write a function which takes an integer $n$. The function first creates a list of numbers from $0$ to $n$. Then, squares each number of the list. Further each of the squared numbers is tested if it is odd like in the task before. All odd numbers are then appended to a new list. The function returns the list of odd (squared) numbers."
      ]
    },
    {
      "cell_type": "code",
      "execution_count": 15,
      "metadata": {},
      "outputs": [
        {
          "name": "stdout",
          "output_type": "stream",
          "text": [
            "[1, 9, 25]\n",
            "\n",
            "[1, 9, 25]\n"
          ]
        }
      ],
      "source": [
        "\n",
        "def get_odd(n:int) -> list:\n",
        "    return ...  ### TODO Start\n",
        "\n",
        "def get_odd2(n):\n",
        "    return get_odd(n)\n",
        "\n",
        "\n",
        "print(get_odd(n=7))\n",
        "print(get_odd2(7))"
      ]
    },
    {
      "cell_type": "markdown",
      "metadata": {},
      "source": [
        "### Object-Oriented Programming"
      ]
    },
    {
      "cell_type": "markdown",
      "metadata": {},
      "source": [
        "<b>Object oriented programming I. </b> We deal now with object oriented programming in Python. For this purpose perform the following steps: \n",
        "* Write a $Point$ class. A $Point$ class takes and $x$ and $y$ coordinate as an argument.\n",
        "* Further this class shall have a setter method $setXY$ which takes and $x$ and $y$ coordinate and sets the attributes to the new provided values.\n",
        "* The class shall also have a getter method $getXY$ which returns the current $x$ and $y$ coordinates of the point.\n",
        "* Write a method distance which takes another $point$ object and returns the euclidean distance between the provided point and the point itself. <i>Hint: Take import math to use math.sqrt(value) in order to compute the square root.</i>"
      ]
    },
    {
      "cell_type": "code",
      "execution_count": 16,
      "metadata": {},
      "outputs": [],
      "source": [
        "import math\n",
        "\n",
        "### TODO Start ###\n",
        "\n",
        "# ...\n",
        "    \n",
        "### TODO End ###"
      ]
    },
    {
      "cell_type": "markdown",
      "metadata": {},
      "source": [
        "<b>Object oriented programming II.</b> In a next step, the task is to create a class $Shape$. For this purpose perform the following steps:\n",
        "* Create a class $Shape$ which takes a name and a color as parameters.\n",
        "* Define a method $area$ which just returns $0.0$.\n",
        "* Define a method $perimeter$ which just return $0.0$.\n",
        "\n",
        "Now, create a class Rectangle which inherits from $Shape$ and in which you $implement$ the $area$ and $perimeter$ methods."
      ]
    },
    {
      "cell_type": "code",
      "execution_count": 17,
      "metadata": {},
      "outputs": [
        {
          "name": "stdout",
          "output_type": "stream",
          "text": [
            "Perimeter of rectangle r:  30\n",
            "\n",
            "Area of rectangle r:  50\n"
          ]
        }
      ],
      "source": [
        "### TODO Start ###\n",
        "\n",
        "# ...\n",
        "    \n",
        "### TODO End ###\n",
        "    \n",
        "r = Rectangle(Point(4,4),10,5,'pink')\n",
        "print('Perimeter of rectangle r: ',r.perimeter())\n",
        "print('Area of rectangle r: ', r.area())\n",
        "    "
      ]
    },
    {
      "cell_type": "markdown",
      "metadata": {},
      "source": [
        "### Numpy - used for Numerical Analysis"
      ]
    },
    {
      "cell_type": "markdown",
      "metadata": {},
      "source": [
        "<b>Numpy I - some basic functions</b>. In this block, you will become familiar with the numpy library and some of its basic functionality. Please also consider to consult the documentation https://numpy.org/doc/stable/user/ if needed. Solve the following tasks:\n",
        "* a) Create an numpy array of floats containing the numbers from $0$ to $4$.\n",
        "* b) Create the following matrix as a numpy matrix: $M = [[1,2,3], [4,5,6]]$.\n",
        "* c) Get the shape and type of the matrix $M$.\n",
        "* d) Get type of array.\n",
        "* e) Check if the value $2$ is in $M$.\n",
        "* f) Given the array $a = np.array([0,1,2,3,4,5,6,7,8,9], float)$. Reshape it to an $5\\times2$ matrix.\n",
        "* g) Transpose the previously introduced matrix $M$.\n",
        "* h) Flatten matrix $M$.\n",
        "* i) Given the array $b = np.array ([0,1,2,3], float)$. Increase the dimensionality of $b$.\n",
        "* j) Create matrices with dimensions 2x3, one containing zeros, the other ones\n",
        "* k) Create and $3\\times 3$ identity matrix."
      ]
    },
    {
      "cell_type": "code",
      "execution_count": 32,
      "metadata": {},
      "outputs": [
        {
          "name": "stdout",
          "output_type": "stream",
          "text": [
            "a) create an np array with float as type\n",
            "\n",
            "[0. 1. 2. 3. 4.]\n",
            "\n",
            "b) create a 2x3 matrix using np arrays\n",
            "\n",
            "[[1. 2. 3.]\n",
            "\n",
            " [4. 5. 6.]]\n",
            "\n",
            "c) get shape of an array\n",
            "\n",
            "(2, 3)\n",
            "\n",
            "d) getting type of array\n",
            "\n",
            "float64\n",
            "\n",
            "e) check if a particular value is in the array\n",
            "\n",
            "True\n",
            "\n",
            "f) reshape an array e.g. 1x10 to an 5x2 array\n",
            "\n",
            "[0. 1. 2. 3. 4. 5. 6. 7. 8. 9.]\n",
            "\n",
            "[[0. 1.]\n",
            "\n",
            " [2. 3.]\n",
            "\n",
            " [4. 5.]\n",
            "\n",
            " [6. 7.]\n",
            "\n",
            " [8. 9.]]\n",
            "\n",
            "g) transpose an array\n",
            "\n",
            "[[1. 2. 3.]\n",
            "\n",
            " [4. 5. 6.]]\n",
            "\n",
            "[[1. 4.]\n",
            "\n",
            " [2. 5.]\n",
            "\n",
            " [3. 6.]]\n",
            "\n",
            "h) flatten an array...\n",
            "\n",
            "[1. 4. 2. 5. 3. 6.]\n",
            "\n",
            "i) increasing dimensionality of an array\n",
            "\n",
            "[0. 1. 2. 3.]\n",
            "\n",
            "[[0.]\n",
            "\n",
            " [1.]\n",
            "\n",
            " [2.]\n",
            "\n",
            " [3.]]\n",
            "\n",
            "j) 2x3 array of ones and zeros\n",
            "\n",
            "[[1. 1. 1.]\n",
            "\n",
            " [1. 1. 1.]]\n",
            "\n",
            "[[0. 0. 0.]\n",
            "\n",
            " [0. 0. 0.]]\n",
            "\n",
            "k) getting an 3x3 identity matrix\n",
            "\n",
            "[[1. 0. 0.]\n",
            "\n",
            " [0. 1. 0.]\n",
            "\n",
            " [0. 0. 1.]]\n"
          ]
        }
      ],
      "source": [
        "import numpy as np\n",
        "\n",
        "print(\"a) create an np array with float as type\")\n",
        "arr0 = ... ### TODO Start\n",
        "print (arr0)\n",
        "\n",
        "print(\"b) create a 2x3 matrix using np arrays\")\n",
        "arr1 = ... ### TODO Start\n",
        "print(arr1)\n",
        "\n",
        "print(\"c) get shape of an array\")\n",
        "print( ... ) ### TODO Start\n",
        "\n",
        "print(\"d) getting type of array\")\n",
        "print( ... ) ### TODO Start\n",
        "\n",
        "print(\"e) check if a particular value is in the array\")\n",
        "print( ... ) ### TODO Start\n",
        "\n",
        "print(\"f) reshape an array e.g. 1x10 to an 5x2 array\")\n",
        "arr2 = np.array(range(10), float)\n",
        "print(arr2)\n",
        "arr3 = ... ### TODO Start\n",
        "print(arr3)\n",
        "\n",
        "print(\"g) transpose an array\")\n",
        "arr5 = np.array([[1,2,3],[4,5,6]], float)\n",
        "arr6 = ... # ### TODO Start - hint: long notation arr5.T \n",
        "print(arr5)\n",
        "print(arr6)\n",
        "\n",
        "print(\"h) flatten an array...\")\n",
        "print( ... ) ### TODO Start\n",
        "\n",
        "print(\"i) increasing dimensionality of an array\")\n",
        "arr7 = np.array([0, 1, 2, 3],float)\n",
        "print(arr7)\n",
        "print( ... ) ### TODO Start\n",
        "\n",
        "print(\"j) 2x3 array of ones and zeros\")\n",
        "print( ... ) ### TODO Start\n",
        "print( ... ) ### TODO Start\n",
        "\n",
        "print(\"k) getting an 3x3 identity matrix\")\n",
        "print( ... ) ### TODO Start"
      ]
    },
    {
      "cell_type": "markdown",
      "metadata": {},
      "source": [
        "<b>Numpy II - linear algebra and statistics. </b> This assignment has its focus on numpy function of the linear algebra and statistics domain. Solve the following tasks using numpy:\n",
        "* l) Given the following two numpy array: $a=np.array([1,2,3], float)$, $b=([4,5,6],float)$. Compute the dot product of $a$ and $b$\n",
        "* m) Given the following matrix $M = [[1,2,3], [4,5,6], [7,8,9]]$, compute the determinant of $M$ by using the $linalg$ package of the numpy library.\n",
        "* n) Compute the eigenvalues and eigenvectors of $M$\n",
        "* o) Compute the inverse of $M$\n",
        "* p) Given the numpy array $c=np.array([1,4,3,8,3,2,3], float)$, compute the mean of $c$\n",
        "* q) using $c$, compute the median.\n",
        "* r) given the following matrix $C=[[1,1], [3,4]]$, compute the covariance of $C$."
      ]
    },
    {
      "cell_type": "code",
      "execution_count": 33,
      "metadata": {},
      "outputs": [
        {
          "name": "stdout",
          "output_type": "stream",
          "text": [
            "l) DOT PRODUCT\n",
            "\n",
            "32.0\n",
            "\n",
            "m) DETERMINANT\n",
            "\n",
            "23.999999999999993\n",
            "\n",
            "n) COMPUTE EIGENVALUES AND EIGENVECTORS\n",
            "\n",
            "[12.45416474 -0.37976219 -5.07440255]\n",
            "\n",
            "------\n",
            "\n",
            "[[-0.29373774 -0.73967882 -0.29720654]\n",
            "\n",
            " [-0.69005397  0.66500848 -0.39870229]\n",
            "\n",
            " [-0.66147083 -0.10314536  0.86758559]]\n",
            "\n",
            "o) COMPUTE INVERSE\n",
            "\n",
            "[[-1.79166667  0.91666667 -0.125     ]\n",
            "\n",
            " [ 1.58333333 -0.83333333  0.25      ]\n",
            "\n",
            " [-0.125       0.25       -0.125     ]]\n",
            "\n",
            "p) COMPUTE MEAN\n",
            "\n",
            "mean:  4.285714285714286\n",
            "\n",
            "q) AND MEDIAN\n",
            "\n",
            "median:  3.0\n",
            "\n",
            "r) COMPUTE COVARIANCE\n",
            "\n",
            "cov:  [[0.  0. ]\n",
            "\n",
            " [0.  0.5]]\n"
          ]
        }
      ],
      "source": [
        "print(\"l) DOT PRODUCT\")\n",
        "arr8 = np.array([1,2,3],float)\n",
        "arr9 = np.array([4,5,6],float)\n",
        "print( ... ) ### TODO Start\n",
        "\n",
        "print(\"m) DETERMINANT\")\n",
        "arr10 = np.array([[1,2,3],[4,5,6],[7,8,1]],float)\n",
        "print( ... ) ### TODO Start\n",
        "\n",
        "print(\"n) COMPUTE EIGENVALUES AND EIGENVECTORS\")\n",
        " ...  ### TODO Start\n",
        "print(eigenvals)\n",
        "print(\"------\")\n",
        "print(eigenvecs)\n",
        "\n",
        "print(\"o) COMPUTE INVERSE\")\n",
        "print( ... ) ### TODO Start\n",
        "\n",
        "print(\"p) COMPUTE MEAN\")\n",
        "arr11 = np.array([1,4,3,8,9,2,3],float)\n",
        "print(\"mean: \", ... ) ### TODO Start\n",
        "\n",
        "print(\"q) AND MEDIAN\")\n",
        "print(\"median: \", ... ) ### TODO Start\n",
        "\n",
        "print(\"r) COMPUTE COVARIANCE\")\n",
        "arr12 = np.array([[1,1],[3,4]],float)\n",
        "print('cov: ', ... ) ### TODO Start"
      ]
    },
    {
      "cell_type": "markdown",
      "metadata": {},
      "source": [
        "### Matplotlib - Plotting"
      ]
    },
    {
      "cell_type": "markdown",
      "metadata": {},
      "source": [
        "<b>Matplotlib - Plotting figures in Python. </b> In this assignment we are finally going to become familiar with the plotting library of Python. For this we solve the following tasks below. Please consider to consult the documentation if needed: https://matplotlib.org/contents.html.\n",
        "\n",
        "* 1) Given a list of data points : $dpts=[(3,3),(4,5),(4.5,6),(9,7)]$. Plot the function using $plt.plot(dpts_x, dpts_y)$\n",
        "* 2) You are given two tiny clusters $c_1 = [(1,2),(3,1),(0,1),(2,2)]$ and $c_2=[(12,9),(8,10),(11,11), (14,13)]$. Plot them in a scatter plot using $plt.scatter(x, y)$, where $c_1$ and $c_2$ have different colors. The $\\mathrm{x-axis}$ represents the time spent at a parking lot in hours, and the $\\mathrm{y-axis}$ represents the money spent in euro. Create axis labels for your figure.\n",
        "* 3) Take the two clusters $c_1$ and $c_2$ together and compute their pairwise distances, storing them in a matrix. Plot the resulting matrix as a heatmap using $plt.imshow(my\\_matrix, cmap='coolwarm', interpolation='nearest')$."
      ]
    },
    {
      "cell_type": "code",
      "execution_count": 34,
      "metadata": {},
      "outputs": [
        {
          "name": "stdout",
          "output_type": "stream",
          "text": [
            "1) PLOT COORS\n"
          ]
        },
        {
          "data": {
            "image/png": "[encoded data removed]",
            "text/plain": [
              "<Figure size 432x288 with 1 Axes>"
            ]
          },
          "metadata": {
            "needs_background": "light"
          },
          "output_type": "display_data"
        }
      ],
      "source": [
        "import matplotlib.pyplot as plt\n",
        "%matplotlib inline\n",
        "\n",
        "print(\"1) PLOT COORS\")\n",
        "dpts = np.asarray([(3,3),(4,5),(4.5,6),(9,7)])\n",
        "\n",
        "### TODO Start ###\n",
        "\n",
        " ... \n",
        "\n",
        "### TODO End ###"
      ]
    },
    {
      "cell_type": "code",
      "execution_count": 35,
      "metadata": {},
      "outputs": [
        {
          "name": "stdout",
          "output_type": "stream",
          "text": [
            "2) SCATTER PLOT\n"
          ]
        },
        {
          "data": {
            "image/png": "[encoded data removed]",
            "text/plain": [
              "<Figure size 432x288 with 1 Axes>"
            ]
          },
          "metadata": {
            "needs_background": "light"
          },
          "output_type": "display_data"
        }
      ],
      "source": [
        "print(\"2) SCATTER PLOT\")\n",
        "c1 = np.array([(1,2),(3,1),(0,1),(2,2)])\n",
        "c2 = np.array([(12,9),(8,10),(11,11),(14,13)])\n",
        "\n",
        "### TODO Start ###\n",
        "\n",
        " ... \n",
        "\n",
        "### TODO End ###"
      ]
    },
    {
      "cell_type": "code",
      "execution_count": 36,
      "metadata": {},
      "outputs": [
        {
          "name": "stdout",
          "output_type": "stream",
          "text": [
            "3) DISTANCE MATRIX\n"
          ]
        },
        {
          "data": {
            "image/png": "[encoded data removed]",
            "text/plain": [
              "<Figure size 432x288 with 2 Axes>"
            ]
          },
          "metadata": {
            "needs_background": "light"
          },
          "output_type": "display_data"
        }
      ],
      "source": [
        "print(\"3) DISTANCE MATRIX\") \n",
        "from scipy.spatial import distance\n",
        "\n",
        "### TODO Start ###\n",
        "\n",
        " ... \n",
        "\n",
        "### TODO End ###"
      ]
    },
    {
      "cell_type": "markdown",
      "metadata": {},
      "source": [
        "---\n",
        "# APPENDIX - built-in functions + lambda functions + copies\n",
        "---"
      ]
    },
    {
      "cell_type": "markdown",
      "metadata": {},
      "source": [
        "<b>map. </b> First, write a function which takes a length in $inch$ and returns a length in $cm$. Given a list $l$ with lengths in $inches$: $l=[4,4.5,5,5.5,6,7]$. Write a list comprehension which takes $l$ and returns a list with all values converted to $cm$ using $map()$."
      ]
    },
    {
      "cell_type": "code",
      "execution_count": 37,
      "metadata": {},
      "outputs": [],
      "source": [
        "l_inch = [4,4.5,5,5.5,6,7]\n",
        "\n",
        "def inch_to_cm(length):\n",
        "    return length*2.54"
      ]
    },
    {
      "cell_type": "code",
      "execution_count": 38,
      "metadata": {},
      "outputs": [
        {
          "name": "stdout",
          "output_type": "stream",
          "text": [
            "[10.16, 11.43, 12.7, 13.97, 15.24, 17.78]\n"
          ]
        }
      ],
      "source": [
        "### TODO Start ###\n",
        "\n",
        "l_cm =  ... \n",
        "\n",
        "### TODO End ###\n",
        "\n",
        "print(l_cm)"
      ]
    },
    {
      "cell_type": "markdown",
      "metadata": {},
      "source": [
        "<b>filter. </b> Write a list comprehension which filters the list $l$ from the assignment above by returning only sizes between $4$ and $6$ $inches$."
      ]
    },
    {
      "cell_type": "code",
      "execution_count": 39,
      "metadata": {},
      "outputs": [
        {
          "name": "stdout",
          "output_type": "stream",
          "text": [
            "[4.5, 5, 5.5]\n"
          ]
        }
      ],
      "source": [
        "### TODO Start ###\n",
        "\n",
        "lrange =  ... \n",
        "\n",
        "### TODO End ###\n",
        "print(lrange)"
      ]
    },
    {
      "cell_type": "markdown",
      "metadata": {},
      "source": [
        "<b>reduce. </b> Write a list comprehension which reduces the list $l$ by summing up all lengths.<br/>\n",
        "<i>Hint: for using the reduce function, you need to import it first by: from functools import reduce</i>"
      ]
    },
    {
      "cell_type": "code",
      "execution_count": 40,
      "metadata": {},
      "outputs": [
        {
          "name": "stdout",
          "output_type": "stream",
          "text": [
            "32.0\n"
          ]
        }
      ],
      "source": [
        "from functools import reduce\n",
        "\n",
        "### TODO Start ###\n",
        "\n",
        "lsum =  ... \n",
        "\n",
        "### TODO End ###\n",
        "\n",
        "print(lsum)"
      ]
    },
    {
      "cell_type": "markdown",
      "metadata": {},
      "source": [
        "<b>Zipping of lists.</b> Given the following two lists, where one list represents the $x-Coordinate$ and another one the $y-Coordinate$:<br/>\n",
        "* $xcoors = [0,1,2,3,4,5]$\n",
        "* $ycoors = [6,7,8,9,10,11]$\n",
        "\n",
        "Write a function which zips the  two lists to a list of coordinate-tuples:<br/>\n",
        "* $xycoors = [(0,6),(1,7),(2,8),(3,9),(4,10),(5,11)]$"
      ]
    },
    {
      "cell_type": "code",
      "execution_count": 41,
      "metadata": {},
      "outputs": [
        {
          "name": "stdout",
          "output_type": "stream",
          "text": [
            "[(0, 6), (1, 7), (2, 8), (3, 9), (4, 10), (5, 11)]\n",
            "\n",
            "[(0, 6), (1, 7), (2, 8), (3, 9), (4, 10), (5, 11)]\n"
          ]
        }
      ],
      "source": [
        "xcoors = [0,1,2,3,4,5] \n",
        "ycoors = [6,7,8,9,10,11]\n",
        "\n",
        "### TODO Start ###\n",
        "\n",
        " ... \n",
        "\n",
        "### TODO End ###\n",
        "\n",
        "print(lis_manual_zip)\n",
        "print(lis_short_zip)"
      ]
    },
    {
      "cell_type": "markdown",
      "metadata": {},
      "source": [
        "<b>Unzipping of lists.</b> Now, we are given a list of data points where the first dimension of each data point represents the age of a person and the second dimension the amount of money spent for chocolate per month in euro:\n",
        "* $chocage = [(20,8), (33,18), (27,14),(66,23),(90,100)]$\n",
        "\n",
        "Write a function which takes the  list and separates it into two lists, one containing the ages and another one containing its corresponding amount of money spent for chocolate. The result would be e.g.:\n",
        "* $age = [20,33,27,66,90]$\n",
        "* $money\\_spent = [8,18,14,23,100]$"
      ]
    },
    {
      "cell_type": "code",
      "execution_count": 42,
      "metadata": {},
      "outputs": [
        {
          "name": "stdout",
          "output_type": "stream",
          "text": [
            "[(20, 33, 27, 66, 90), (8, 18, 14, 23, 100)]\n",
            "\n",
            "[(20, 33, 27, 66, 90), (8, 18, 14, 23, 100)]\n"
          ]
        }
      ],
      "source": [
        "chocage = [(20,8), (33,18), (27,14), (66,23), (90,100)]\n",
        "\n",
        "### TODO Start ###\n",
        "\n",
        " ... \n",
        "\n",
        "### TODO End ###\n",
        "\n",
        "print(lis_manual_unzip)\n",
        "print(lis_short_unzip)"
      ]
    },
    {
      "cell_type": "markdown",
      "metadata": {},
      "source": [
        "<b>Lambda functions.</b> Write a list comprehension which takes a number $n$ and returns a list with even numbers, using a lambda function."
      ]
    },
    {
      "cell_type": "code",
      "execution_count": 43,
      "metadata": {},
      "outputs": [
        {
          "name": "stdout",
          "output_type": "stream",
          "text": [
            "[0, 2, 4, 6]\n"
          ]
        }
      ],
      "source": [
        "n = 7\n",
        "### TODO Start ###\n",
        "\n",
        "even1 = ...\n",
        "lst7 = ...\n",
        "\n",
        "### TODO End ###\n",
        "print(lst7)"
      ]
    },
    {
      "cell_type": "markdown",
      "metadata": {},
      "source": [
        "<b>Shallow Copy I.</b> Given a list $a=['I','like','cookies']$ and another list which takes a shallow copy of $a$, $b=a[:]$. Like in the previous assignment, replace in the list $b$ the word $'cookies'$ with $'apples'$. Finally, print both lists ($a$ and $b$). What do you observe now?"
      ]
    },
    {
      "cell_type": "code",
      "execution_count": 44,
      "metadata": {},
      "outputs": [
        {
          "name": "stdout",
          "output_type": "stream",
          "text": [
            "list a3: ['I', 'like', 'cookies']\n",
            "\n",
            "list b3: ['I', 'like', 'apples']\n",
            "\n",
            "2240926936384 2240927123072\n",
            "\n",
            "2240925606768 2240871868720\n"
          ]
        }
      ],
      "source": [
        "a3 =  ['I','like','cookies']\n",
        "\n",
        "### TODO Start ###\n",
        "\n",
        "# ... \n",
        "\n",
        "### TODO End ###\n",
        "\n",
        "print(\"list a3: \"+str(a3))\n",
        "print(\"list b3: \"+str(b3))\n",
        "print(id(a3),id(b3))\n",
        "print(id(a3[2]),id(b3[2]))"
      ]
    },
    {
      "cell_type": "markdown",
      "metadata": {},
      "source": [
        "<b>Shallow Copy II.</b> Now, we are given a list $a = ['I', 'like', ['chocolate', 'cookies']]$. Another list $b = deepcopy(a)$ takes this time a deep copy from $a$. Change now the work $'cookies'$ with $'apples'$ in $b$. Print both lists ($a$ and $b$). What do you observe now?<br/>\n",
        "<i>Hint: For deep copy. first type: from copy import deepcopy</i>"
      ]
    },
    {
      "cell_type": "code",
      "execution_count": 45,
      "metadata": {},
      "outputs": [
        {
          "name": "stdout",
          "output_type": "stream",
          "text": [
            "list a4: ['I', 'like', ['chocolate', 'cookies']]\n",
            "\n",
            "list b4: ['I', 'like', ['chocolate', 'apples']]\n",
            "\n",
            "2240927123200 2240925459712\n"
          ]
        }
      ],
      "source": [
        "from copy import deepcopy\n",
        "\n",
        "a4 =  ['I','like',['chocolate', 'cookies']]\n",
        "\n",
        "### TODO Start ###\n",
        "\n",
        "# ... \n",
        "\n",
        "### TODO End ###\n",
        "\n",
        "print(\"list a4: \"+str(a4))\n",
        "print(\"list b4: \"+str(b4))\n",
        "print(id(a4[2]),id(b4[2]))"
      ]
    },
    {
      "cell_type": "markdown",
      "metadata": {},
      "source": [
        "# End of 1st Tutorial"
      ]
    },
    {
      "cell_type": "code",
      "execution_count": null,
      "metadata": {},
      "outputs": [],
      "source": []
    }
  ],
  "metadata": {
    "kernelspec": {
      "display_name": "DAA_3.10",
      "language": "python",
      "name": "python3"
    },
    "language_info": {
      "codemirror_mode": {
        "name": "ipython",
        "version": 3
      },
      "file_extension": ".py",
      "mimetype": "text/x-python",
      "name": "python",
      "nbconvert_exporter": "python",
      "pygments_lexer": "ipython3",
      "version": "3.10.13"
    }
  },
  "nbformat": 4,
  "nbformat_minor": 4
}
